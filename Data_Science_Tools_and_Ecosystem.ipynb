{
  "cells": [
    {
      "cell_type": "markdown",
      "metadata": {
        "id": "Le8Ja-i0Uma-"
      },
      "source": [
        "<center>\n",
        "    <img src=\"https://cf-courses-data.s3.us.cloud-object-storage.appdomain.cloud/IBMDeveloperSkillsNetwork-DS0105EN-SkillsNetwork/labs/Module2/images/SN_web_lightmode.png\" width=\"300\" alt=\"cognitiveclass.ai logo\">\n",
        "</center>\n"
      ]
    },
    {
      "cell_type": "markdown",
      "metadata": {
        "id": "moUPEyOfUmbB"
      },
      "source": [
        "#### Add your code below following the instructions given in the course\n"
      ]
    },
    {
      "cell_type": "markdown",
      "source": [
        "# Data Science Tools and Ecosystem"
      ],
      "metadata": {
        "id": "kaY9zmxYWVGA"
      }
    },
    {
      "cell_type": "markdown",
      "source": [
        "## Introduction\n",
        "This notebook provides an overview of some of the tools and libraries commonly used in the data science ecosystem. Additionally, examples of simple arithmetic operations are demonstrated.\n"
      ],
      "metadata": {
        "id": "Dg3eohrzXLfE"
      }
    },
    {
      "cell_type": "markdown",
      "source": [
        "## Data Science Languages\n",
        "Some of the popular languages that data scientists use are:\n",
        "1. Python\n",
        "2. R\n",
        "3. SQL\n",
        "4. Julia\n",
        "5. Scala\n"
      ],
      "metadata": {
        "id": "Dskw1hCzWcsc"
      }
    },
    {
      "cell_type": "markdown",
      "source": [
        "## Data Science Libraries\n",
        "Some of the commonly used libraries used by Data Scientists include:\n",
        "- Pandas\n",
        "- NumPy\n",
        "- Matplotlib\n",
        "- Scikit-learn\n",
        "- TensorFlow\n",
        "- Keras\n"
      ],
      "metadata": {
        "id": "Pdx4bco2WfHp"
      }
    },
    {
      "cell_type": "markdown",
      "source": [
        "## Data Science Tools\n",
        "| Data Science Tool | Description |\n",
        "| --- | --- |\n",
        "| Jupyter Notebook | An open-source tool for interactive data science and scientific computing across programming languages. |\n",
        "| RStudio | An integrated development environment for R. |\n",
        "| Apache Hadoop | A framework that allows for the distributed processing of large data sets across clusters of computers. |\n"
      ],
      "metadata": {
        "id": "xOXsb_fhWfFl"
      }
    },
    {
      "cell_type": "markdown",
      "source": [
        "### Below are a few examples of evaluating arithmetic expressions in Python.\n"
      ],
      "metadata": {
        "id": "F60RYY3DWfDL"
      }
    },
    {
      "cell_type": "code",
      "source": [
        "# This a simple arithmetic expression to mutiply then add integers\n",
        "eval = (3*4)+5\n",
        "print(eval)\n",
        "print(eval==17)"
      ],
      "metadata": {
        "colab": {
          "base_uri": "https://localhost:8080/",
          "height": 0
        },
        "id": "ONin9gdXWxJW",
        "outputId": "c6b46fde-7338-480f-e928-1c9cd55e00cf"
      },
      "execution_count": 1,
      "outputs": [
        {
          "output_type": "stream",
          "name": "stdout",
          "text": [
            "17\n",
            "True\n"
          ]
        }
      ]
    },
    {
      "cell_type": "code",
      "source": [
        "# This will convert 200 minutes to hours by diving by 60\n",
        "print(200 / 6)"
      ],
      "metadata": {
        "id": "Up9THJZlWxHf"
      },
      "execution_count": null,
      "outputs": []
    },
    {
      "cell_type": "markdown",
      "source": [
        "## Objectives\n",
        "- List popular languages for Data Science.\n",
        "- List commonly used libraries in Data Science.\n",
        "- Introduce data science tools.\n",
        "- Provide examples of arithmetic expressions.\n"
      ],
      "metadata": {
        "id": "D759wq-0W0wo"
      }
    },
    {
      "cell_type": "markdown",
      "source": [
        "## Author\n",
        "Muhammed Corduk\n"
      ],
      "metadata": {
        "id": "Hp4Sd1y7W5G1"
      }
    }
  ],
  "metadata": {
    "kernelspec": {
      "display_name": "Python",
      "language": "python",
      "name": "conda-env-python-py"
    },
    "language_info": {
      "name": ""
    },
    "colab": {
      "provenance": []
    }
  },
  "nbformat": 4,
  "nbformat_minor": 0
}